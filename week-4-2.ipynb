{
 "cells": [
  {
   "cell_type": "markdown",
   "metadata": {
    "collapsed": true
   },
   "source": [
    "Capstone\n",
    "\n",
    "Data\n",
    "\n",
    "To help Jeronimo in his search we will need to access following data:\n",
    "\n",
    "- The Localities of Bogotá, Colombia from Wikipedia: https://es.wikipedia.org/wiki/Anexo:Localidades_de_Bogot%C3%A1\n",
    "\n",
    "- The coordinates (latitude, longitude) ot these Localities of Bogotá from Open Street Map APIs\n",
    "\n",
    "- From Foursquare we will need following venues data:\n",
    "  - the burger joint venues of the Localities\n",
    "  - the offices venues of the Localities\n",
    "  - the high schools venues of the Localities\n",
    "  - the universities venues of the Localities\n",
    "\n",
    "We will then leverage the data in order to determine which locality is the most appropriate in order to locate the burger joint."
   ]
  }
 ],
 "metadata": {
  "kernelspec": {
   "display_name": "Python 2",
   "language": "python",
   "name": "python2"
  },
  "language_info": {
   "codemirror_mode": {
    "name": "ipython",
    "version": 2
   },
   "file_extension": ".py",
   "mimetype": "text/x-python",
   "name": "python",
   "nbconvert_exporter": "python",
   "pygments_lexer": "ipython2",
   "version": "2.7.10"
  }
 },
 "nbformat": 4,
 "nbformat_minor": 1
}
