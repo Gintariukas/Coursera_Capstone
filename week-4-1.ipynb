{
 "cells": [
  {
   "cell_type": "markdown",
   "metadata": {
    "collapsed": true
   },
   "source": [
    "Capstone\n",
    "\n",
    "Introduction\n",
    "\n",
    "Jeronimo wants to open his Burger Joint in some Locality (District) of Bogotá, Colombia.\n",
    "And he is asking our help in finding the best Locality.\n",
    "\n",
    "Business Problem \n",
    "\n",
    "In order to open Jeronimo's burger joint, we will have the need to use some information about the Localities in Bogotá.\n",
    "We must be sure that the place where the burger joint is opened will have enough customers and also that there aren't a large ammount of burer joints in the place."
   ]
  }
 ],
 "metadata": {
  "kernelspec": {
   "display_name": "Python 2",
   "language": "python",
   "name": "python2"
  },
  "language_info": {
   "codemirror_mode": {
    "name": "ipython",
    "version": 2
   },
   "file_extension": ".py",
   "mimetype": "text/x-python",
   "name": "python",
   "nbconvert_exporter": "python",
   "pygments_lexer": "ipython2",
   "version": "2.7.10"
  }
 },
 "nbformat": 4,
 "nbformat_minor": 1
}
